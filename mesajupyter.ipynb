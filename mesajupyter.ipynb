{
 "cells": [
  {
   "cell_type": "markdown",
   "metadata": {},
   "source": [
    "# <ins>Analyzing Stellar Data from MESA</ins>\n",
    "## An Interactive Exercise\n",
    "\n",
    "In this exercise, you will carry out some basic analyses of stellar data from MESA. \n"
   ]
  },
  {
   "cell_type": "markdown",
   "metadata": {},
   "source": [
    "## Installing PyMesaReader\n",
    "\n",
    "You will need to have PyMesaReader installed. To intall PyMesaReader, follow the first cell below. _The installation needs to be executed only once. Once PyMesaReader is installed, there is no need to install it again._"
   ]
  },
  {
   "cell_type": "code",
   "execution_count": null,
   "metadata": {},
   "outputs": [],
   "source": [
    "import os\n",
    "\n",
    "# Store the current working directory\n",
    "cwd = os.getcwd()\n",
    "\n",
    "# Check the py_mesa_reader code out from github to the user home directory\n",
    "!git clone https://github.com/wmwolf/py_mesa_reader.git ~/py_mesa_reader\n",
    "\n",
    "# Change into the install directory and use PIP to install the Python package\n",
    "!cd ~/py_mesa_reader; pip3 install --user .\n",
    "\n",
    "# Change back to the original working directory\n",
    "os.chdir (cwd)"
   ]
  },
  {
   "cell_type": "markdown",
   "metadata": {},
   "source": [
    "## Plotting MESA history data\n",
    "\n",
    "For our first example, we will make use of the history file to plot the time evolution of the MESA stellar model on a theorist's HR diagram of log luminosity versus log T. \n",
    "\n",
    "Many other analyses are possible with the history data. The command \n",
    "\n",
    "<code>\n",
    "h.bulk_names\n",
    "</code>\n",
    "\n",
    "below returns all of the fields stored. The <code>'LOGS/history.data'</code> file contains within it many global quantities, representing one value per timestep of the simulation. Small modifications can easily be made, for example, to plot the log luminosity versus time, or the log mass versus log radius of the star."
   ]
  },
  {
   "cell_type": "code",
   "execution_count": null,
   "metadata": {},
   "outputs": [],
   "source": [
    "import matplotlib.pyplot as plt\n",
    "import mesa_reader as mr\n",
    "\n",
    "# Set the MESA directory which needs to be analyzed\n",
    "mesa_run_directory = \"/home/local/UMDAR/rfisher1/mesa/tutorial\"\n",
    "os.chdir (mesa_run_directory)\n",
    "\n",
    "# Display graphics inline in this notebook\n",
    "%pylab inline\n",
    "pylab.rcParams['figure.figsize'] = (20, 12)\n",
    "\n",
    "# Read in the history file\n",
    "h = mr.MesaData ('LOGS/history.data')\n",
    "\n",
    "# To display all available fields\n",
    "print (\"This history.data file contains these fields: \", h.bulk_names)\n",
    "\n",
    "ages = h.star_age\n",
    "log_Teff = h.log_Teff\n",
    "log_L = h.log_L\n",
    "\n",
    "# Generate a \"theorist's\" HR diagram of log luminosity versus log T\n",
    "\n",
    "font_size = 24\n",
    "\n",
    "plt.plot (log_Teff, log_L, color = 'black', linewidth = 2.5)\n",
    "plt.xlabel (\"Log Effective Temperature (K)\", fontsize = font_size)\n",
    "plt.ylabel (\"Log Luminosity ($L_{\\odot}$)\", fontsize = font_size)\n",
    "plt.tick_params(axis='x', labelsize = font_size)\n",
    "plt.tick_params(axis='y', labelsize = font_size)\n",
    "# reverse temperature axis for HR diagram\n",
    "ax = plt.gca()\n",
    "ax.set_xlim(ax.get_xlim()[::-1])\n",
    "\n",
    "# Output the HR diagram to a file in PDF format\n",
    "plt.savefig (\"mesa_hr_diagram.pdf\", format = \"pdf\")"
   ]
  }
 ],
 "metadata": {
  "kernelspec": {
   "display_name": "Python 3",
   "language": "python",
   "name": "python3"
  },
  "language_info": {
   "codemirror_mode": {
    "name": "ipython",
    "version": 3
   },
   "file_extension": ".py",
   "mimetype": "text/x-python",
   "name": "python",
   "nbconvert_exporter": "python",
   "pygments_lexer": "ipython3",
   "version": "3.8.5"
  }
 },
 "nbformat": 4,
 "nbformat_minor": 4
}
