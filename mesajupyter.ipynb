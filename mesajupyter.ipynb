{
 "cells": [
  {
   "cell_type": "markdown",
   "metadata": {},
   "source": [
    "# <ins>Analyzing Stellar Data from MESA</ins>\n",
    "## An Interactive Exercise\n",
    "\n",
    "In this exercise, you will carry out some basic analyses of stellar data from MESA. \n"
   ]
  },
  {
   "cell_type": "markdown",
   "metadata": {},
   "source": [
    "## Installing PyMesaReader\n",
    "\n",
    "First, you will need to have PyMesaReader installed. To intall PyMesaReader, follow the first cell below. _The installation needs to be executed only once. Once PyMesaReader is installed, there is no need to install it again._"
   ]
  },
  {
   "cell_type": "code",
   "execution_count": null,
   "metadata": {},
   "outputs": [],
   "source": [
    "import os\n",
    "\n",
    "# Store the current working directory\n",
    "cwd = os.getcwd()\n",
    "\n",
    "# Check the py_mesa_reader code out from github to the user home directory\n",
    "!git clone https://github.com/wmwolf/py_mesa_reader.git ~/py_mesa_reader\n",
    "\n",
    "# Change into the install directory and use PIP to install the Python package for this user\n",
    "!cd ~/py_mesa_reader; pip3 install --user .\n",
    "\n",
    "# Change back to the original working directory\n",
    "os.chdir (cwd)"
   ]
  },
  {
   "cell_type": "markdown",
   "metadata": {},
   "source": [
    "## Plotting MESA history data\n",
    "\n",
    "For our first example, we will make use of the history file to plot the time evolution of the MESA stellar model on a theorist's HR diagram of log luminosity versus log T. \n",
    "\n",
    "The code below is simply explained. PyMesaReader is imported as <code>mr</code>. We change into a directory with the LOGS directory for a MESA run, and read in the <code>history.data</code> file, which is stored in the LOGS directory. We then store the log of the effective surface temperature and the log of the stellar luminoisty as log_Teff and Log_L, respectively. These quantities are stored as NumPy arrays, and are then plotted to form the HR diagram.\n",
    "\n",
    "Many other analyses are possible with the history data. The command \n",
    "\n",
    "<code>\n",
    "h.bulk_names\n",
    "</code>\n",
    "\n",
    "below returns all of the fields stored. The <code>'LOGS/history.data'</code> file contains within it many global quantities, representing one value per timestep of the simulation. Small modifications can easily be made, for example, to plot the log luminosity versus time, or the log mass versus log radius of the star, or even more exotic examples. \n",
    "\n",
    "By default, MESA stores the history fields in the file <code>$MESA_DIR/star/defaults/history_columns.list</code>. Many more entries are possible; you can copy this file to your MESA run directory and modify it to suit your needs. History entries marked with a leading <\\code>!</code> are commented out. Simply delete the leading <\\code>!</code> to comment it in."
   ]
  },
  {
   "cell_type": "code",
   "execution_count": null,
   "metadata": {},
   "outputs": [],
   "source": [
    "import matplotlib.pyplot as plt\n",
    "import mesa_reader as mr\n",
    "import os\n",
    "\n",
    "# Set the MESA directory which needs to be analyzed\n",
    "mesa_run_directory = \"/home/local/UMDAR/rfisher1/mesa/tutorial\"\n",
    "os.chdir (mesa_run_directory)\n",
    "\n",
    "# Display graphics inline in this notebook\n",
    "%pylab inline\n",
    "pylab.rcParams['figure.figsize'] = (20, 12)\n",
    "\n",
    "# Read in the history file\n",
    "h = mr.MesaData ('LOGS/history.data')\n",
    "\n",
    "# To display all available fields\n",
    "print (\"This history.data file contains these fields: \", h.bulk_names)\n",
    "\n",
    "ages = h.star_age\n",
    "log_Teff = h.log_Teff\n",
    "log_L = h.log_L\n",
    "\n",
    "# Generate a \"theorist's\" HR diagram of log luminosity versus log T\n",
    "\n",
    "font_size = 24\n",
    "\n",
    "plt.plot (log_Teff, log_L, color = 'black', linewidth = 2.5)\n",
    "plt.xlabel (\"Log Effective Temperature (K)\", fontsize = font_size)\n",
    "plt.ylabel (\"Log Luminosity ($L_{\\odot}$)\", fontsize = font_size)\n",
    "plt.title (\"HR Diagram\", fontsize = font_size)\n",
    "plt.tick_params(axis='x', labelsize = font_size)\n",
    "plt.tick_params(axis='y', labelsize = font_size)\n",
    "# reverse temperature axis for HR diagram\n",
    "ax = plt.gca()\n",
    "ax.set_xlim(ax.get_xlim()[::-1])\n",
    "\n",
    "# Output the HR diagram to a file in PDF format\n",
    "plt.savefig (\"mesa_hr_diagram.pdf\", format = \"pdf\")"
   ]
  },
  {
   "cell_type": "markdown",
   "metadata": {},
   "source": [
    "## Plotting MESA profile data\n",
    "\n",
    "For our next example, we will plot the time evolution of the internal structure of a MESA stellar model. Individual timesteps in the MESA simulation are called _models_ in MESA terminology, while the spatially-dependent stellar structure functions ($\\rho (r), T (r)$, etc.) are called _profiles_. In this example, we plot the profile of temperature and density within the star for the final profile stored during a MESA run.\n",
    "\n",
    "This example is easily generalized to plot any profile. The <code>log.profile_data()</code> command below can be modified to select any profile or any model.\n",
    "\n",
    "Also note that similar to the history file structure, by default, MESA stores the profile fields in the file <code>$MESA_DIR/star/defaults/profile_columns.list</code>. The basic quantities include <code>R, mass, Rho, T, P </code>. The radii and massses are in solar units. Be careful -- Python is case sensitive, so <code>R</code> is _not_ equivalent to <code>r</code>.\n",
    "\n",
    "Many more profile entries are possible; you can copy the <code><code>profile_columns.list</code> file to your MESA run directory and modify it to suit your needs. Profile entries marked with a leading <\\code>!</code> are commented out. Simply delete the leading <\\code>!</code> to comment that field in. Some important profile fields are commented out by default, and you should consider adding them back in, including <code>luminosity, net_nuclear_energy</code>. Also the global entry <code>star_age</code>, which has only a single value per profile, allows you to easily connect a given profile to a physical time."
   ]
  },
  {
   "cell_type": "code",
   "execution_count": null,
   "metadata": {},
   "outputs": [],
   "source": [
    "import mesa_reader as mr\n",
    "import os\n",
    "import matplotlib.pyplot as plt\n",
    "\n",
    "# Set the MESA directory which needs to be analyzed\n",
    "mesa_run_directory = \"/home/local/UMDAR/rfisher1/mesa/tutorial\"\n",
    "os.chdir (mesa_run_directory)\n",
    "\n",
    "# Display graphics inline in this notebook\n",
    "%pylab inline\n",
    "pylab.rcParams['figure.figsize'] = (20, 12)\n",
    "\n",
    "# Load entire LOG directory information\n",
    "log = mr.MesaLogDir('./LOGS')\n",
    "\n",
    "# Grab the last profile by default; use log.profile_data(model_number = m, profile_number = n)\n",
    "# to select model number m or profile number n\n",
    "p = log.profile_data()\n",
    "\n",
    "font_size = 24\n",
    "\n",
    "# This works even if you only have logRho and logT!\n",
    "plt.loglog(p.Rho, p.T, color = 'black', linewidth = 2.5)\n",
    "xlabel(\"Density\", fontsize = font_size)\n",
    "ylabel(\"Temperature\", fontsize = font_size)\n",
    "plt.tick_params(axis='x', labelsize = font_size)\n",
    "plt.tick_params(axis='y', labelsize = font_size)"
   ]
  }
 ],
 "metadata": {
  "kernelspec": {
   "display_name": "Python 3",
   "language": "python",
   "name": "python3"
  },
  "language_info": {
   "codemirror_mode": {
    "name": "ipython",
    "version": 3
   },
   "file_extension": ".py",
   "mimetype": "text/x-python",
   "name": "python",
   "nbconvert_exporter": "python",
   "pygments_lexer": "ipython3",
   "version": "3.8.5"
  }
 },
 "nbformat": 4,
 "nbformat_minor": 4
}
