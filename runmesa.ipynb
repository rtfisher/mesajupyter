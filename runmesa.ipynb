{
 "cells": [
  {
   "cell_type": "markdown",
   "metadata": {},
   "source": [
    "# <ins>Running MESA</ins>\n",
    "## An Interactive Exercise\n",
    "\n",
    "RTF, 3/30/21\n",
    "\n",
    "In this Jupyter notebook exercise, you will run a standard MESA setup, for a 15 solar mass stellar model, up to the zero-age main sequence (ZAMS). \n"
   ]
  },
  {
   "cell_type": "markdown",
   "metadata": {},
   "source": [
    "## Running MESA\n",
    "\n",
    "This set of commands will run MESA in the Jupyter notebook. _Note: This currently only works if MESA has been previously compiled using the mk command on the command line interface._ The MESASDK package require the execution of the BASH initialization script ${MESASDK_ROOT}/bin/mesasdk_init.sh. However, simply executing this script in the Jupyter notebook with either the ! command or the \\%env command does not modify the underlying environment. "
   ]
  },
  {
   "cell_type": "code",
   "execution_count": null,
   "metadata": {},
   "outputs": [],
   "source": [
    "import os\n",
    "\n",
    "# Store the current working directory\n",
    "\n",
    "#cwd = os.getcwd()\n",
    "#print (cwd)\n",
    "\n",
    "# Load up the MESA module on RPS and limit the number of threads\n",
    "\n",
    "#!module load mesa\n",
    "!export OMP_NUM_THREADS=2\n",
    "%env MESA_DIR=/opt/mesa/mesa-r15140\n",
    "%env MESASDK_ROOT=/opt/mesa/mesasdk/bin\n",
    "#%system /opt/mesa/mesasdk/bin/mesasdk_init.sh \n",
    "#%lsmagic\n",
    "\n",
    "!echo ${PATH}\n",
    "#!cp -r ${MESA_DIR}/star/work /home/local/UMDAR/rfisher1/tutorial2\n",
    "\n",
    "# Change into the MESA subdirectory\n",
    "\n",
    "os.chdir (\"/home/local/UMDAR/rfisher1/tutorial2\")\n",
    "\n",
    "# Compile the MESA code and then run it\n",
    "\n",
    "#./mk\n",
    "!./rn"
   ]
  },
  {
   "cell_type": "markdown",
   "metadata": {},
   "source": [
    "## Restarting a MESA run\n",
    "\n",
    "Often you may need to restart a MESA run, for example to continue a run that was terminated early. Restarts are done from complete checkpoints of the simulation state, called _photos_ in MESA terminology. The photos are stored in the photos subdirectory of your MESA run directory, and are numbered by the timestep, or _model_. For example, a photo stored in the 100th model is written as x100."
   ]
  },
  {
   "cell_type": "code",
   "execution_count": null,
   "metadata": {},
   "outputs": [],
   "source": [
    "import os\n",
    "\n",
    "# Store the current working directory\n",
    "cwd = os.getcwd()\n",
    "\n",
    "# Load up the MESA module \n",
    "!module load mesa\n",
    "\n",
    "# Change into the tutorial subdirectory\n",
    "\n",
    "os.chdir (\"./tutorial2\")\n",
    "\n",
    "# Restart from the 800th timestep\n",
    "\n",
    "!./re x800"
   ]
  }
 ],
 "metadata": {
  "kernelspec": {
   "display_name": "Python 3",
   "language": "python",
   "name": "python3"
  },
  "language_info": {
   "codemirror_mode": {
    "name": "ipython",
    "version": 3
   },
   "file_extension": ".py",
   "mimetype": "text/x-python",
   "name": "python",
   "nbconvert_exporter": "python",
   "pygments_lexer": "ipython3",
   "version": "3.8.5"
  }
 },
 "nbformat": 4,
 "nbformat_minor": 4
}
